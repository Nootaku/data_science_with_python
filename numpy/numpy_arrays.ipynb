{
 "cells": [
  {
   "cell_type": "markdown",
   "id": "1e54108a-d5e8-4e4a-9f66-f7420bdf09e6",
   "metadata": {},
   "source": [
    "# NumPy Arrays\n",
    "\n",
    "A NumPy Array can is a regular array that can be of two classes:\n",
    "1. a vector - A vector is a one-dimensional array\n",
    "2. a matrix - A matrix is a multi-dimensional array\n",
    "\n",
    "Let's start with the basis and see how to create an array.\n",
    "\n",
    "## Creating Arrays\n",
    "\n",
    "### Basics"
   ]
  },
  {
   "cell_type": "code",
   "execution_count": 1,
   "id": "eb9b20b9-25fa-4e95-9c58-1937c0e3eda0",
   "metadata": {},
   "outputs": [],
   "source": [
    "import numpy as np"
   ]
  },
  {
   "cell_type": "markdown",
   "id": "07e25f84-37f2-4ffe-a975-207767af4f3b",
   "metadata": {},
   "source": [
    "One of the methods to create an array is by building an array from an existing list (one-dimensional) or from an existing matrix (multi-dimensional)."
   ]
  },
  {
   "cell_type": "code",
   "execution_count": 2,
   "id": "1de7696e-151b-45b8-a83f-c349f0d7ceac",
   "metadata": {},
   "outputs": [
    {
     "data": {
      "text/plain": [
       "array([1, 2, 3])"
      ]
     },
     "execution_count": 2,
     "metadata": {},
     "output_type": "execute_result"
    }
   ],
   "source": [
    "# Create a regular list\n",
    "my_list = [1, 2, 3]\n",
    "\n",
    "# Make an array from the list\n",
    "np.array(my_list)"
   ]
  },
  {
   "cell_type": "code",
   "execution_count": 3,
   "id": "5a08ff34-5f4a-4b40-81d4-398f6306e39f",
   "metadata": {},
   "outputs": [
    {
     "data": {
      "text/plain": [
       "array([[1, 2, 3],\n",
       "       [4, 5, 6],\n",
       "       [7, 8, 9]])"
      ]
     },
     "execution_count": 3,
     "metadata": {},
     "output_type": "execute_result"
    }
   ],
   "source": [
    "# Create a regular nested list\n",
    "my_matrix = [[1, 2, 3], [4, 5, 6], [7, 8, 9]]\n",
    "\n",
    "# Make an array from the list\n",
    "np.array(my_matrix)"
   ]
  },
  {
   "cell_type": "markdown",
   "id": "6a793852-e5ba-4eb1-8dc8-a0ca8ac95bae",
   "metadata": {},
   "source": [
    "However, more often than not, we will use the NumPy built-in functions to create arrays for us.\n",
    "\n",
    "### Methods\n",
    "\n",
    "#### np.arange\n",
    "\n",
    "The `np.arange` method is very similar to Python's inbuilt `range` method. It takes a `start`, a `stop` and a `step` argument and builds a list (or in this case, an array) of evenly spaced values ranging from the `start` to the `stop` with increments of `step`."
   ]
  },
  {
   "cell_type": "code",
   "execution_count": 4,
   "id": "4bf7bcf3-21f2-4d66-9c92-75dd87d2531c",
   "metadata": {},
   "outputs": [
    {
     "data": {
      "text/plain": [
       "array([0, 1, 2, 3, 4, 5, 6, 7, 8, 9])"
      ]
     },
     "execution_count": 4,
     "metadata": {},
     "output_type": "execute_result"
    }
   ],
   "source": [
    "np.arange(10)"
   ]
  },
  {
   "cell_type": "code",
   "execution_count": 5,
   "id": "92c3bbb1-85df-47d4-a2a4-5f1859aff1b8",
   "metadata": {},
   "outputs": [
    {
     "data": {
      "text/plain": [
       "array([10, 12, 14, 16, 18, 20, 22, 24, 26, 28, 30, 32, 34, 36, 38, 40, 42,\n",
       "       44, 46, 48])"
      ]
     },
     "execution_count": 5,
     "metadata": {},
     "output_type": "execute_result"
    }
   ],
   "source": [
    "np.arange(10, 50, 2)"
   ]
  },
  {
   "cell_type": "markdown",
   "id": "3fc0ed2a-9ddf-476f-b679-a760a5fef38b",
   "metadata": {},
   "source": [
    "#### np.zeros\n",
    "\n",
    "The `np.zeros` method takes a `shape` argument and will create an array with the dimensions of the given `shape` where each element of the array will be equal to `0`.<br/>For example, if we write `np.zeros(5)` we will get an array of 5 elements. Each of these elements will be a `0`.\n",
    "\n",
    "Passing a tuple to the `shape` argument, will create a multi-dimensional array of the given dimensions. The first number of the tuple will represent the number of **rows** and the second number will represent the **columns**.\n",
    "\n",
    "Passing a tuple of 3 numbers will create a 3-dimensional array where the numbers correspond to:\n",
    "- amount of nested arrays\n",
    "- number of rows per nested array\n",
    "- number of columns per nested array"
   ]
  },
  {
   "cell_type": "code",
   "execution_count": 6,
   "id": "bad1c0db-e805-4fa0-b1fd-79b158389abb",
   "metadata": {},
   "outputs": [
    {
     "data": {
      "text/plain": [
       "array([0., 0., 0., 0., 0.])"
      ]
     },
     "execution_count": 6,
     "metadata": {},
     "output_type": "execute_result"
    }
   ],
   "source": [
    "np.zeros(5)"
   ]
  },
  {
   "cell_type": "code",
   "execution_count": 7,
   "id": "b223613d-4f31-4c89-aa70-8a14eb28068b",
   "metadata": {},
   "outputs": [
    {
     "data": {
      "text/plain": [
       "array([[0., 0., 0., 0., 0.],\n",
       "       [0., 0., 0., 0., 0.],\n",
       "       [0., 0., 0., 0., 0.]])"
      ]
     },
     "execution_count": 7,
     "metadata": {},
     "output_type": "execute_result"
    }
   ],
   "source": [
    "# Create an array of 3 rows and 5 columns\n",
    "np.zeros((3, 5))"
   ]
  },
  {
   "cell_type": "code",
   "execution_count": 8,
   "id": "cd1a845b-ebad-4766-9cdd-79fcaca7badd",
   "metadata": {},
   "outputs": [
    {
     "data": {
      "text/plain": [
       "array([[[0., 0., 0., 0., 0.],\n",
       "        [0., 0., 0., 0., 0.],\n",
       "        [0., 0., 0., 0., 0.]],\n",
       "\n",
       "       [[0., 0., 0., 0., 0.],\n",
       "        [0., 0., 0., 0., 0.],\n",
       "        [0., 0., 0., 0., 0.]]])"
      ]
     },
     "execution_count": 8,
     "metadata": {},
     "output_type": "execute_result"
    }
   ],
   "source": [
    "np.zeros((2, 3, 5))"
   ]
  },
  {
   "cell_type": "markdown",
   "id": "e81771cc-2d31-424d-838a-ec0fed6cd6b4",
   "metadata": {
    "jp-MarkdownHeadingCollapsed": true,
    "tags": []
   },
   "source": [
    "#### np.ones\n",
    "\n",
    "The `np.ones` method is identical to the `np.zeros` method except it will populate the array with `1` instead of `0`."
   ]
  },
  {
   "cell_type": "markdown",
   "id": "0625cdbc-5d80-44af-a340-5bc545ab4f46",
   "metadata": {},
   "source": [
    "#### np.linspace\n",
    "\n",
    "The `np.linspace` method is similar to the `np.arange` method. Just as the `np.arange` method, it take a `start` and a `stop` argument, but the difference lies in the 3rd argument.\n",
    "\n",
    "`np.arange` requests the steps or **incrementation** added to each number. `np.linspace` needs the amount of elements that need to be created. Each generated element is **equidistant** to each other between the `start` and the `stop`.\n",
    "\n",
    "The result of the `np.linspace` method is a one-dimentional array with `num` elements."
   ]
  },
  {
   "cell_type": "code",
   "execution_count": 9,
   "id": "83397835-56e7-41c8-9b59-dfd0e578b543",
   "metadata": {},
   "outputs": [
    {
     "data": {
      "text/plain": [
       "array([0., 1., 2., 3., 4., 5.])"
      ]
     },
     "execution_count": 9,
     "metadata": {},
     "output_type": "execute_result"
    }
   ],
   "source": [
    "np.linspace(0, 5, 6)"
   ]
  },
  {
   "cell_type": "code",
   "execution_count": 10,
   "id": "ecc4c49b-6d0a-443f-9743-fdb30ecd926e",
   "metadata": {},
   "outputs": [
    {
     "data": {
      "text/plain": [
       "array([0. , 2.5, 5. ])"
      ]
     },
     "execution_count": 10,
     "metadata": {},
     "output_type": "execute_result"
    }
   ],
   "source": [
    "np.linspace(0, 5, 3)"
   ]
  },
  {
   "cell_type": "markdown",
   "id": "f99ac7e6-909a-47ff-927a-643d96837293",
   "metadata": {},
   "source": [
    "#### np.eye\n",
    "\n",
    "The `np.eye` allows to easily create an **identiy matrix** of `n` elements.\n",
    "\n",
    "An identity matrix is a 2-dimentional matrix of equal rows and columns populated by `0` except for the column where the column index is equal to the row index."
   ]
  },
  {
   "cell_type": "code",
   "execution_count": 11,
   "id": "416de01b-811d-41c4-bcc4-06311a68b980",
   "metadata": {},
   "outputs": [
    {
     "data": {
      "text/plain": [
       "array([[1., 0., 0., 0.],\n",
       "       [0., 1., 0., 0.],\n",
       "       [0., 0., 1., 0.],\n",
       "       [0., 0., 0., 1.]])"
      ]
     },
     "execution_count": 11,
     "metadata": {},
     "output_type": "execute_result"
    }
   ],
   "source": [
    "np.eye(4)"
   ]
  },
  {
   "cell_type": "markdown",
   "id": "9221fd5f-8f0d-4587-8efa-a033ce915b9e",
   "metadata": {},
   "source": [
    "#### Arrays with random numbers\n",
    "\n",
    "There are multiple ways to create NumPy arrays containing random numbers.\n",
    "\n",
    "##### ***np.random.rand***\n",
    "\n",
    "The `np.random.rand()` will create an array of the given dimensions. It takes as many arguments as there are dimensions, meaning that with one number, we will have a 1D array. With two numbers, a 2D array and so on.\n",
    "\n",
    "The created array will populated with random samples from a uniform distribution over `[0, 1]`."
   ]
  },
  {
   "cell_type": "code",
   "execution_count": 12,
   "id": "acec8564-3d3c-49b8-b2e3-98a9fca4790a",
   "metadata": {},
   "outputs": [
    {
     "data": {
      "text/plain": [
       "array([0.39352018, 0.22639418, 0.36400704, 0.89217093, 0.92816237])"
      ]
     },
     "execution_count": 12,
     "metadata": {},
     "output_type": "execute_result"
    }
   ],
   "source": [
    "np.random.rand(5)"
   ]
  },
  {
   "cell_type": "code",
   "execution_count": 13,
   "id": "cc8b50ba-a13f-4ba9-8800-adca5945d4a0",
   "metadata": {},
   "outputs": [
    {
     "data": {
      "text/plain": [
       "array([[0.98996785, 0.81821535, 0.21977257, 0.35599894, 0.04697529],\n",
       "       [0.69970075, 0.60412965, 0.36020962, 0.09862006, 0.66141586],\n",
       "       [0.62391203, 0.37389056, 0.89640647, 0.48693083, 0.49530425]])"
      ]
     },
     "execution_count": 13,
     "metadata": {},
     "output_type": "execute_result"
    }
   ],
   "source": [
    "np.random.rand(3, 5)"
   ]
  },
  {
   "cell_type": "markdown",
   "id": "c79b50d2-d728-4344-9ad7-5190720b14fa",
   "metadata": {},
   "source": [
    "##### ***np.random.randn***\n",
    "\n",
    "The `np.random.randn()` method is identical to the `np.random.rand()` method except that it also can populate negatives (standard normal distribution) over `[-1, 1]`."
   ]
  },
  {
   "cell_type": "code",
   "execution_count": 14,
   "id": "b183a9d7-52ea-496d-aa9f-1f6954248165",
   "metadata": {
    "tags": []
   },
   "outputs": [
    {
     "data": {
      "text/plain": [
       "array([ 1.26259031,  0.29504051,  0.07740469, -0.86034266, -0.25798844])"
      ]
     },
     "execution_count": 14,
     "metadata": {},
     "output_type": "execute_result"
    }
   ],
   "source": [
    "np.random.randn(5)"
   ]
  },
  {
   "cell_type": "markdown",
   "id": "ea8b3754-4f0a-4020-a9d0-84186f6d0896",
   "metadata": {},
   "source": [
    "##### ***np.random.randint***\n",
    "\n",
    "The `np.random.randint` method will generate an array of integers. It takes 3 arguments: the `start` or lower inclusive, the `stop` or highest exclusive and the `shape` of the array."
   ]
  },
  {
   "cell_type": "code",
   "execution_count": 15,
   "id": "b82be19a-c5f5-4da1-b7fe-02ea65aff7b9",
   "metadata": {},
   "outputs": [
    {
     "data": {
      "text/plain": [
       "array([5, 7, 6])"
      ]
     },
     "execution_count": 15,
     "metadata": {},
     "output_type": "execute_result"
    }
   ],
   "source": [
    "np.random.randint(5, 10, 3)"
   ]
  },
  {
   "cell_type": "code",
   "execution_count": 16,
   "id": "1949d2f3-dc92-4c2d-a905-f2261aa44fbc",
   "metadata": {
    "tags": []
   },
   "outputs": [
    {
     "data": {
      "text/plain": [
       "array([[9, 9, 6, 5, 9],\n",
       "       [6, 5, 6, 6, 5],\n",
       "       [9, 7, 8, 5, 8]])"
      ]
     },
     "execution_count": 16,
     "metadata": {},
     "output_type": "execute_result"
    }
   ],
   "source": [
    "np.random.randint(5, 10, (3, 5))"
   ]
  },
  {
   "cell_type": "markdown",
   "id": "aac29679-1f1a-4d99-a653-a73a47630a31",
   "metadata": {},
   "source": [
    "## Array Methods\n",
    "\n",
    "### array.reshape\n",
    "\n",
    "The `reshape` method allows to change the shape of an existing array. Its arguments corresponds to the desired shape of the new array."
   ]
  },
  {
   "cell_type": "code",
   "execution_count": 17,
   "id": "c40d7a04-49f0-469b-8363-2db1d78868b2",
   "metadata": {},
   "outputs": [
    {
     "data": {
      "text/plain": [
       "array([[0, 1, 2, 3, 4],\n",
       "       [5, 6, 7, 8, 9]])"
      ]
     },
     "execution_count": 17,
     "metadata": {},
     "output_type": "execute_result"
    }
   ],
   "source": [
    "arr = np.arange(10)\n",
    "arr.reshape(2, 5)"
   ]
  },
  {
   "cell_type": "code",
   "execution_count": 18,
   "id": "573e233d-9eaf-447c-915c-167d434a780c",
   "metadata": {},
   "outputs": [
    {
     "ename": "ValueError",
     "evalue": "cannot reshape array of size 10 into shape (3,3)",
     "output_type": "error",
     "traceback": [
      "\u001b[0;31m---------------------------------------------------------------------------\u001b[0m",
      "\u001b[0;31mValueError\u001b[0m                                Traceback (most recent call last)",
      "Input \u001b[0;32mIn [18]\u001b[0m, in \u001b[0;36m<cell line: 3>\u001b[0;34m()\u001b[0m\n\u001b[1;32m      1\u001b[0m \u001b[38;5;66;03m# Now what happens if the shape doesn't correpsond exactly\u001b[39;00m\n\u001b[1;32m      2\u001b[0m arr \u001b[38;5;241m=\u001b[39m np\u001b[38;5;241m.\u001b[39marange(\u001b[38;5;241m10\u001b[39m)\n\u001b[0;32m----> 3\u001b[0m \u001b[43marr\u001b[49m\u001b[38;5;241;43m.\u001b[39;49m\u001b[43mreshape\u001b[49m\u001b[43m(\u001b[49m\u001b[38;5;241;43m3\u001b[39;49m\u001b[43m,\u001b[49m\u001b[43m \u001b[49m\u001b[38;5;241;43m3\u001b[39;49m\u001b[43m)\u001b[49m\n",
      "\u001b[0;31mValueError\u001b[0m: cannot reshape array of size 10 into shape (3,3)"
     ]
    }
   ],
   "source": [
    "# Now what happens if the shape doesn't correpsond exactly\n",
    "arr = np.arange(10)\n",
    "arr.reshape(3, 3)"
   ]
  },
  {
   "cell_type": "markdown",
   "id": "8cb4ede3-c7f2-4354-ae3d-e6018b3dfa74",
   "metadata": {},
   "source": [
    "### max and min\n",
    "\n",
    "The `max` and `min` methods return the maximum and minimum values of an array respectively.\n",
    "\n",
    "To get the index of the maximum and minimum values you can use the `argmax` and `argmin`methods."
   ]
  },
  {
   "cell_type": "code",
   "execution_count": 19,
   "id": "3627c2ee-80e6-4061-9317-7dba217fc1c6",
   "metadata": {},
   "outputs": [
    {
     "name": "stdout",
     "output_type": "stream",
     "text": [
      "{'max': 98, 'max_index': 8, 'min': 11, 'min_index': 34}\n"
     ]
    }
   ],
   "source": [
    "arr = np.random.randint(10, 100, 50)\n",
    "arr_max = arr.max()\n",
    "arr_min = arr.min()\n",
    "arr_max_index = arr.argmax()\n",
    "arr_min_index = arr.argmin()\n",
    "\n",
    "print({\n",
    "    'max': arr_max,\n",
    "    'max_index': arr_max_index,\n",
    "    'min': arr_min,\n",
    "    'min_index': arr_min_index\n",
    "})"
   ]
  },
  {
   "cell_type": "markdown",
   "id": "d6e44850-2e96-4bb4-8757-469a3b3cedc3",
   "metadata": {},
   "source": [
    "### Shape\n",
    "\n",
    "The `shape` property returns a tuple with the size of each dimension."
   ]
  },
  {
   "cell_type": "code",
   "execution_count": 20,
   "id": "0b0457c8-b905-4f57-8aa0-bf5a280b3d01",
   "metadata": {},
   "outputs": [
    {
     "data": {
      "text/plain": [
       "(1, 2, 2)"
      ]
     },
     "execution_count": 20,
     "metadata": {},
     "output_type": "execute_result"
    }
   ],
   "source": [
    "arr = np.random.rand(np.random.randint(1, 4), np.random.randint(1, 4), np.random.randint(1, 4))\n",
    "arr.shape"
   ]
  },
  {
   "cell_type": "markdown",
   "id": "0b8e6f7b-9ac4-47f8-8571-83f39d8473d5",
   "metadata": {},
   "source": [
    "### dtype\n",
    "\n",
    "The `dtype` property indicates the type of the elements present in an array."
   ]
  },
  {
   "cell_type": "code",
   "execution_count": 21,
   "id": "ce0cb489-4f5e-434c-bd3a-366edb63314f",
   "metadata": {},
   "outputs": [
    {
     "data": {
      "text/plain": [
       "dtype('int64')"
      ]
     },
     "execution_count": 21,
     "metadata": {},
     "output_type": "execute_result"
    }
   ],
   "source": [
    "arr = np.random.randint(10, 100, 50)\n",
    "arr.dtype"
   ]
  },
  {
   "cell_type": "markdown",
   "id": "1e4a5158-e70c-4fa1-b18e-15e8a99e755f",
   "metadata": {},
   "source": [
    "## Indexing and Selection from a NumPy Array\n",
    "\n",
    "### Indexing a one-dimension array (Vector)\n",
    "\n",
    "This works the same as Python lists. We can select an index with `array[n]` and a slice with `array[n:m]`."
   ]
  },
  {
   "cell_type": "code",
   "execution_count": 22,
   "id": "16dd827e-774e-4985-8149-4b81aa352168",
   "metadata": {},
   "outputs": [],
   "source": [
    "# Create an array\n",
    "arr = np.arange(11)"
   ]
  },
  {
   "cell_type": "code",
   "execution_count": 23,
   "id": "d409afdb-f7bc-43fe-b462-f2f52be090bf",
   "metadata": {},
   "outputs": [
    {
     "data": {
      "text/plain": [
       "8"
      ]
     },
     "execution_count": 23,
     "metadata": {},
     "output_type": "execute_result"
    }
   ],
   "source": [
    "# Get value at specific index\n",
    "arr[8]"
   ]
  },
  {
   "cell_type": "code",
   "execution_count": 24,
   "id": "5f8d6ad9-0b52-4bd9-9fea-4dd5ed8690e8",
   "metadata": {},
   "outputs": [
    {
     "name": "stdout",
     "output_type": "stream",
     "text": [
      "[0 1 2 3 4]\n",
      "[0 1 2 3 4 5]\n",
      "[ 4  5  6  7  8  9 10]\n"
     ]
    }
   ],
   "source": [
    "# Get slice between 2 indexes\n",
    "a = arr[0:5]\n",
    "b = arr[:6]\n",
    "c = arr[4:]\n",
    "print(a)\n",
    "print(b)\n",
    "print(c)"
   ]
  },
  {
   "cell_type": "markdown",
   "id": "4fc718e7-6411-4158-b96c-c7cff71367fa",
   "metadata": {},
   "source": [
    "#### Watch out\n",
    "\n",
    "One major difference between a list and an array is the broadcasting. This means that if I create a variable that is a slice of the array and that I change its value, it will also change the value on the original array.\n",
    "\n",
    "This means that **the data is not copied** but the slice **is just a view of the original array**.\n",
    "\n",
    "The reason for this is that NumPy is for working with large amounts of data. In order to improve memory performances, it won't copy the data by default.<br/>\n",
    "It is, however possible to copy the data with the `copy()` method."
   ]
  },
  {
   "cell_type": "code",
   "execution_count": 25,
   "id": "f731774a-8f1c-451f-98a6-667e24a60be0",
   "metadata": {},
   "outputs": [
    {
     "data": {
      "text/plain": [
       "array([ 0,  1,  2,  3,  4,  5,  6,  7,  8,  9, 10])"
      ]
     },
     "execution_count": 25,
     "metadata": {},
     "output_type": "execute_result"
    }
   ],
   "source": [
    "# Example of broadcasting\n",
    "arr = np.arange(11)\n",
    "slice_of_arr = arr [:6]\n",
    "arr"
   ]
  },
  {
   "cell_type": "code",
   "execution_count": 26,
   "id": "6059a516-c99f-4826-80a8-e4ec5999db94",
   "metadata": {},
   "outputs": [
    {
     "data": {
      "text/plain": [
       "array([99, 99, 99,  3,  4,  5])"
      ]
     },
     "execution_count": 26,
     "metadata": {},
     "output_type": "execute_result"
    }
   ],
   "source": [
    "slice_of_arr[:3] = 99\n",
    "slice_of_arr"
   ]
  },
  {
   "cell_type": "code",
   "execution_count": 27,
   "id": "92b78e47-a042-4170-b1eb-65e7483d2ec0",
   "metadata": {},
   "outputs": [
    {
     "data": {
      "text/plain": [
       "array([99, 99, 99,  3,  4,  5,  6,  7,  8,  9, 10])"
      ]
     },
     "execution_count": 27,
     "metadata": {},
     "output_type": "execute_result"
    }
   ],
   "source": [
    "arr"
   ]
  },
  {
   "cell_type": "code",
   "execution_count": 28,
   "id": "01c14707-4742-4867-a768-a3aa666a6210",
   "metadata": {},
   "outputs": [
    {
     "data": {
      "text/plain": [
       "array([99, 99, 99,  3,  4,  5,  6,  7,  8,  9, 10])"
      ]
     },
     "execution_count": 28,
     "metadata": {},
     "output_type": "execute_result"
    }
   ],
   "source": [
    "# If we copy the array, it allocates new memory to the copy\n",
    "slice_of_arr = arr.copy()[6:]\n",
    "slice_of_arr[:] = 100\n",
    "arr"
   ]
  },
  {
   "cell_type": "markdown",
   "id": "cf2d7018-d7da-4342-ab5c-b9102befd4a1",
   "metadata": {},
   "source": [
    "### Indexing a 2D-Array (Matrix)\n",
    "\n",
    "There are 2 ways to index a matrix: With _double brackets_ and with _single brackets_.\n",
    "\n",
    "- The _double brackets_ means that you are going to select per dimensions: `arr[n1][n2]`\n",
    "- The _single bracket comma_ notation means this: `arr[n1, n2]`"
   ]
  },
  {
   "cell_type": "code",
   "execution_count": 29,
   "id": "79fcf041-d8a9-4b64-81c9-3b972067a409",
   "metadata": {},
   "outputs": [
    {
     "data": {
      "text/plain": [
       "array([[ 5, 10, 15],\n",
       "       [20, 25, 30],\n",
       "       [25, 40, 45]])"
      ]
     },
     "execution_count": 29,
     "metadata": {},
     "output_type": "execute_result"
    }
   ],
   "source": [
    "arr = np.array([[5, 10, 15], [20, 25, 30], [25, 40, 45]])\n",
    "arr"
   ]
  },
  {
   "cell_type": "code",
   "execution_count": 30,
   "id": "7ca192f6-4285-498e-a680-f0851b4d68d3",
   "metadata": {},
   "outputs": [
    {
     "data": {
      "text/plain": [
       "30"
      ]
     },
     "execution_count": 30,
     "metadata": {},
     "output_type": "execute_result"
    }
   ],
   "source": [
    "# The double bracket method\n",
    "arr[1][2]"
   ]
  },
  {
   "cell_type": "code",
   "execution_count": 31,
   "id": "8872c9dd-12ab-4b04-b7f6-be3532504869",
   "metadata": {},
   "outputs": [
    {
     "data": {
      "text/plain": [
       "30"
      ]
     },
     "execution_count": 31,
     "metadata": {},
     "output_type": "execute_result"
    }
   ],
   "source": [
    "# The single bracket comma notation\n",
    "arr[1, 2]"
   ]
  },
  {
   "cell_type": "markdown",
   "id": "1f4b02d6-3652-4a01-af35-ae74c9744f15",
   "metadata": {},
   "source": [
    "#### Grabbing an entire row\n",
    "\n",
    "To grab an entire row, just give one integer representing the row: `arr[n]`.\n",
    "\n",
    "***Note:*** _This returns an array._"
   ]
  },
  {
   "cell_type": "code",
   "execution_count": null,
   "id": "c1bcab85-fbf4-4505-bdde-180e2ba6a2b9",
   "metadata": {},
   "outputs": [],
   "source": [
    "# Selecting a row\n",
    "arr[2]"
   ]
  },
  {
   "cell_type": "markdown",
   "id": "a8ac1af7-8caf-4106-a0e3-89b19740d710",
   "metadata": {},
   "source": [
    "#### Grabbing a column\n",
    "\n",
    "To grab a column use the single or double bracket notation replacing the row integer by `:` or `...`."
   ]
  },
  {
   "cell_type": "code",
   "execution_count": 32,
   "id": "c3123f31-251b-4977-83ab-0889c52c3e09",
   "metadata": {},
   "outputs": [
    {
     "data": {
      "text/plain": [
       "array([ 5, 10, 15])"
      ]
     },
     "execution_count": 32,
     "metadata": {},
     "output_type": "execute_result"
    }
   ],
   "source": [
    "arr[:][0]"
   ]
  },
  {
   "cell_type": "code",
   "execution_count": 33,
   "id": "6389897b-b3cd-451a-8d76-931ca36bf452",
   "metadata": {},
   "outputs": [
    {
     "data": {
      "text/plain": [
       "array([10, 25, 40])"
      ]
     },
     "execution_count": 33,
     "metadata": {},
     "output_type": "execute_result"
    }
   ],
   "source": [
    "arr[:, 1]"
   ]
  },
  {
   "cell_type": "code",
   "execution_count": 34,
   "id": "6f3dd49c-7759-42b7-acf5-e41899ef1436",
   "metadata": {},
   "outputs": [
    {
     "data": {
      "text/plain": [
       "array([15, 30, 45])"
      ]
     },
     "execution_count": 34,
     "metadata": {},
     "output_type": "execute_result"
    }
   ],
   "source": [
    "arr[..., 2]"
   ]
  },
  {
   "cell_type": "markdown",
   "id": "a70e6ed2-d126-4955-84a8-676b3ac4f1da",
   "metadata": {},
   "source": [
    "#### Use Slice notation to grab a selection"
   ]
  },
  {
   "cell_type": "code",
   "execution_count": 35,
   "id": "09a54b39-59c6-4b9e-87f2-d0b31e4e59f3",
   "metadata": {},
   "outputs": [
    {
     "data": {
      "text/plain": [
       "array([[10, 15],\n",
       "       [25, 30]])"
      ]
     },
     "execution_count": 35,
     "metadata": {},
     "output_type": "execute_result"
    }
   ],
   "source": [
    "# Grab all elements where:\n",
    "# -- the row as the index 0 and 1\n",
    "# -- the columns as the index 1 and 2\n",
    "arr[:2, 1:]"
   ]
  },
  {
   "cell_type": "markdown",
   "id": "1e8281bb-2974-49fb-bf2d-fbb0e7de5d57",
   "metadata": {},
   "source": [
    "### Conditional selection\n",
    "\n",
    "We can create a **boolean array** from any array by analyzing it with logical operators.\n",
    "\n",
    "It is possible to select the elements of an array based on a boolean array. This is easier to show than to explain:"
   ]
  },
  {
   "cell_type": "code",
   "execution_count": 36,
   "id": "9b3a7285-6738-4e4f-a3cd-7d01f4034874",
   "metadata": {},
   "outputs": [
    {
     "data": {
      "text/plain": [
       "array([45, 60, 26, 23, 11, 53, 42, 90, 73, 78])"
      ]
     },
     "execution_count": 36,
     "metadata": {},
     "output_type": "execute_result"
    }
   ],
   "source": [
    "arr = np.random.randint(0, 100, 10)\n",
    "arr"
   ]
  },
  {
   "cell_type": "code",
   "execution_count": 37,
   "id": "64167576-f04c-4694-afc8-e21e1aa0a245",
   "metadata": {},
   "outputs": [
    {
     "data": {
      "text/plain": [
       "array([False, False, False, False, False, False, False,  True,  True,\n",
       "        True])"
      ]
     },
     "execution_count": 37,
     "metadata": {},
     "output_type": "execute_result"
    }
   ],
   "source": [
    "# Creating a boolean array\n",
    "bool_arr = arr > 65\n",
    "bool_arr"
   ]
  },
  {
   "cell_type": "code",
   "execution_count": 38,
   "id": "781e9f70-9dd1-4401-ac77-3001f5947567",
   "metadata": {},
   "outputs": [
    {
     "data": {
      "text/plain": [
       "array([90, 73, 78])"
      ]
     },
     "execution_count": 38,
     "metadata": {},
     "output_type": "execute_result"
    }
   ],
   "source": [
    "# Select only the elements where the condition is true in the original array\n",
    "arr[bool_arr]"
   ]
  },
  {
   "cell_type": "code",
   "execution_count": 39,
   "id": "9f12a33b-b24b-4646-937a-d1ac2d23c98a",
   "metadata": {},
   "outputs": [
    {
     "data": {
      "text/plain": [
       "array([90, 73, 78])"
      ]
     },
     "execution_count": 39,
     "metadata": {},
     "output_type": "execute_result"
    }
   ],
   "source": [
    "# Or the shorthand:\n",
    "arr[arr > 65]"
   ]
  },
  {
   "cell_type": "markdown",
   "id": "21ed7658-1f40-4a01-85c2-7e1e3c57a5d2",
   "metadata": {},
   "source": [
    "## Operations on arrays\n",
    "\n",
    "### Arithmetics\n",
    "\n",
    "For any array we can perform arithmethic operations. For example, I can _'add 5'_ to each element of my array simply by typing `array + 5`.<br/>This also works for substractions `- 5`, multiplication `* 5` and divisions `/ 5`."
   ]
  },
  {
   "cell_type": "code",
   "execution_count": 41,
   "id": "d8f66443-4cb2-462f-9dc2-442b205f7349",
   "metadata": {},
   "outputs": [
    {
     "data": {
      "text/plain": [
       "array([ 5,  6,  7,  8,  9, 10, 11, 12, 13, 14])"
      ]
     },
     "execution_count": 41,
     "metadata": {},
     "output_type": "execute_result"
    }
   ],
   "source": [
    "arr = np.arange(10)\n",
    "arr + 5"
   ]
  },
  {
   "cell_type": "markdown",
   "id": "519e444a-7f76-4168-8949-3d5ea13cb23a",
   "metadata": {},
   "source": [
    "It is however interesting to add two arrays together.\n",
    "\n",
    "If we were to write `array_1 + array_2`, each index of the first array will be summed up with the corresponding index of the second array."
   ]
  },
  {
   "cell_type": "code",
   "execution_count": 43,
   "id": "d30ef09b-cd52-46d7-b52d-f9a77d9f6303",
   "metadata": {},
   "outputs": [
    {
     "data": {
      "text/plain": [
       "array([ 4,  4, 10,  4,  4])"
      ]
     },
     "execution_count": 43,
     "metadata": {},
     "output_type": "execute_result"
    }
   ],
   "source": [
    "arr_1 = np.array([1, 1, 5, 1, 1])\n",
    "arr_2 = np.array([3, 3, 5, 3, 3])\n",
    "arr_1 + arr_2"
   ]
  },
  {
   "cell_type": "markdown",
   "id": "b5be0df2-987d-4f85-b6d0-3e83c375c180",
   "metadata": {},
   "source": [
    "A list of universal functions (or `ufunc`) can be found on [the official documentation](https://numpy.org/doc/stable/reference/ufuncs.html)"
   ]
  }
 ],
 "metadata": {
  "kernelspec": {
   "display_name": "Python 3 (ipykernel)",
   "language": "python",
   "name": "python3"
  },
  "language_info": {
   "codemirror_mode": {
    "name": "ipython",
    "version": 3
   },
   "file_extension": ".py",
   "mimetype": "text/x-python",
   "name": "python",
   "nbconvert_exporter": "python",
   "pygments_lexer": "ipython3",
   "version": "3.10.4"
  }
 },
 "nbformat": 4,
 "nbformat_minor": 5
}
