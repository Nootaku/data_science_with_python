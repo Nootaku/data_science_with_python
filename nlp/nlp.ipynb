{
 "cells": [
  {
   "cell_type": "markdown",
   "id": "ab614de7-4e5d-46fb-9728-034bf7d3180a",
   "metadata": {},
   "source": [
    "# Natural Language Processing\n",
    "\n",
    "For this little project we want to get familiar with the NLTK library (see documentation [here](https://www.nltk.org/index.html)).\n",
    "\n",
    "We will create a simple spam filter based on the [SMS Spam Collection dataset](https://archive.ics.uci.edu/ml/datasets/SMS+Spam+Collection) from the University of California, Irvine.\n",
    "\n",
    "Please note that nltk also has a lot of inbuilt resources accessible with the `nltk.download_shell()`command.\n",
    "\n",
    "## First look at the dataset"
   ]
  },
  {
   "cell_type": "code",
   "execution_count": 1,
   "id": "0b23db35-5878-4b29-b195-5ea992c4104d",
   "metadata": {},
   "outputs": [
    {
     "data": {
      "text/plain": [
       "5574"
      ]
     },
     "execution_count": 1,
     "metadata": {},
     "output_type": "execute_result"
    }
   ],
   "source": [
    "messages = [line.rstrip() for line in open('smsspamcollection/SMSSpamCollection')]\n",
    "len(messages)"
   ]
  },
  {
   "cell_type": "code",
   "execution_count": 2,
   "id": "39495576-611c-467e-afcc-f7d64d2433ef",
   "metadata": {},
   "outputs": [
    {
     "name": "stdout",
     "output_type": "stream",
     "text": [
      "[0] ham\tGo until jurong point, crazy.. Available only in bugis n great world la e buffet... Cine there got amore wat...\n",
      "\n",
      "\n",
      "[1] ham\tOk lar... Joking wif u oni...\n",
      "\n",
      "\n",
      "[2] spam\tFree entry in 2 a wkly comp to win FA Cup final tkts 21st May 2005. Text FA to 87121 to receive entry question(std txt rate)T&C's apply 08452810075over18's\n",
      "\n",
      "\n",
      "[3] ham\tU dun say so early hor... U c already then say...\n",
      "\n",
      "\n",
      "[4] ham\tNah I don't think he goes to usf, he lives around here though\n",
      "\n",
      "\n",
      "[5] spam\tFreeMsg Hey there darling it's been 3 week's now and no word back! I'd like some fun you up for it still? Tb ok! XxX std chgs to send, £1.50 to rcv\n",
      "\n",
      "\n",
      "[6] ham\tEven my brother is not like to speak with me. They treat me like aids patent.\n",
      "\n",
      "\n",
      "[7] ham\tAs per your request 'Melle Melle (Oru Minnaminunginte Nurungu Vettam)' has been set as your callertune for all Callers. Press *9 to copy your friends Callertune\n",
      "\n",
      "\n",
      "[8] spam\tWINNER!! As a valued network customer you have been selected to receivea £900 prize reward! To claim call 09061701461. Claim code KL341. Valid 12 hours only.\n",
      "\n",
      "\n",
      "[9] spam\tHad your mobile 11 months or more? U R entitled to Update to the latest colour mobiles with camera for Free! Call The Mobile Update Co FREE on 08002986030\n",
      "\n",
      "\n"
     ]
    }
   ],
   "source": [
    "for i, m in enumerate(messages[:10]):\n",
    "    print(\"[{}]\".format(i), m)\n",
    "    print(\"\\n\")"
   ]
  },
  {
   "cell_type": "markdown",
   "id": "ccc0df4f-f5fa-4fc8-9ae5-54b40bce354c",
   "metadata": {},
   "source": [
    "As we can see, each element contains two fields separated by a tab where the first field is the label and the second the message. This is even clearer with:"
   ]
  },
  {
   "cell_type": "code",
   "execution_count": 3,
   "id": "a616be48-a507-4d2e-aee4-16d07fcc5d7d",
   "metadata": {},
   "outputs": [
    {
     "data": {
      "text/plain": [
       "'ham\\tOk lar... Joking wif u oni...'"
      ]
     },
     "execution_count": 3,
     "metadata": {},
     "output_type": "execute_result"
    }
   ],
   "source": [
    "messages[1]"
   ]
  },
  {
   "cell_type": "markdown",
   "id": "92ecfd15-8e16-4a79-b93a-18601310677a",
   "metadata": {},
   "source": [
    "### Imports"
   ]
  },
  {
   "cell_type": "code",
   "execution_count": 4,
   "id": "5b720fbb-6160-4a87-bbf5-0dff77617e30",
   "metadata": {},
   "outputs": [],
   "source": [
    "import nltk\n",
    "import pandas as pd\n",
    "import numpy as np"
   ]
  },
  {
   "cell_type": "markdown",
   "id": "3305de64-5137-4ea5-a5d5-8b33c099c17d",
   "metadata": {},
   "source": [
    "### Primary analysis"
   ]
  },
  {
   "cell_type": "code",
   "execution_count": 5,
   "id": "38eb6b3f-b413-4696-8509-00eced3da278",
   "metadata": {},
   "outputs": [
    {
     "data": {
      "text/html": [
       "<div>\n",
       "<style scoped>\n",
       "    .dataframe tbody tr th:only-of-type {\n",
       "        vertical-align: middle;\n",
       "    }\n",
       "\n",
       "    .dataframe tbody tr th {\n",
       "        vertical-align: top;\n",
       "    }\n",
       "\n",
       "    .dataframe thead th {\n",
       "        text-align: right;\n",
       "    }\n",
       "</style>\n",
       "<table border=\"1\" class=\"dataframe\">\n",
       "  <thead>\n",
       "    <tr style=\"text-align: right;\">\n",
       "      <th></th>\n",
       "      <th>label</th>\n",
       "      <th>message</th>\n",
       "    </tr>\n",
       "  </thead>\n",
       "  <tbody>\n",
       "    <tr>\n",
       "      <th>0</th>\n",
       "      <td>ham</td>\n",
       "      <td>Go until jurong point, crazy.. Available only ...</td>\n",
       "    </tr>\n",
       "    <tr>\n",
       "      <th>1</th>\n",
       "      <td>ham</td>\n",
       "      <td>Ok lar... Joking wif u oni...</td>\n",
       "    </tr>\n",
       "    <tr>\n",
       "      <th>2</th>\n",
       "      <td>spam</td>\n",
       "      <td>Free entry in 2 a wkly comp to win FA Cup fina...</td>\n",
       "    </tr>\n",
       "    <tr>\n",
       "      <th>3</th>\n",
       "      <td>ham</td>\n",
       "      <td>U dun say so early hor... U c already then say...</td>\n",
       "    </tr>\n",
       "    <tr>\n",
       "      <th>4</th>\n",
       "      <td>ham</td>\n",
       "      <td>Nah I don't think he goes to usf, he lives aro...</td>\n",
       "    </tr>\n",
       "  </tbody>\n",
       "</table>\n",
       "</div>"
      ],
      "text/plain": [
       "  label                                            message\n",
       "0   ham  Go until jurong point, crazy.. Available only ...\n",
       "1   ham                      Ok lar... Joking wif u oni...\n",
       "2  spam  Free entry in 2 a wkly comp to win FA Cup fina...\n",
       "3   ham  U dun say so early hor... U c already then say...\n",
       "4   ham  Nah I don't think he goes to usf, he lives aro..."
      ]
     },
     "execution_count": 5,
     "metadata": {},
     "output_type": "execute_result"
    }
   ],
   "source": [
    "msg = pd.read_csv('smsspamcollection/SMSSpamCollection', sep='\\t', names=['label', 'message'])\n",
    "msg.head()"
   ]
  },
  {
   "cell_type": "code",
   "execution_count": 6,
   "id": "3c48a711-3274-4e1d-83bd-b37cb265736a",
   "metadata": {},
   "outputs": [
    {
     "data": {
      "text/html": [
       "<div>\n",
       "<style scoped>\n",
       "    .dataframe tbody tr th:only-of-type {\n",
       "        vertical-align: middle;\n",
       "    }\n",
       "\n",
       "    .dataframe tbody tr th {\n",
       "        vertical-align: top;\n",
       "    }\n",
       "\n",
       "    .dataframe thead th {\n",
       "        text-align: right;\n",
       "    }\n",
       "</style>\n",
       "<table border=\"1\" class=\"dataframe\">\n",
       "  <thead>\n",
       "    <tr style=\"text-align: right;\">\n",
       "      <th></th>\n",
       "      <th>label</th>\n",
       "      <th>message</th>\n",
       "    </tr>\n",
       "  </thead>\n",
       "  <tbody>\n",
       "    <tr>\n",
       "      <th>count</th>\n",
       "      <td>5572</td>\n",
       "      <td>5572</td>\n",
       "    </tr>\n",
       "    <tr>\n",
       "      <th>unique</th>\n",
       "      <td>2</td>\n",
       "      <td>5169</td>\n",
       "    </tr>\n",
       "    <tr>\n",
       "      <th>top</th>\n",
       "      <td>ham</td>\n",
       "      <td>Sorry, I'll call later</td>\n",
       "    </tr>\n",
       "    <tr>\n",
       "      <th>freq</th>\n",
       "      <td>4825</td>\n",
       "      <td>30</td>\n",
       "    </tr>\n",
       "  </tbody>\n",
       "</table>\n",
       "</div>"
      ],
      "text/plain": [
       "       label                 message\n",
       "count   5572                    5572\n",
       "unique     2                    5169\n",
       "top      ham  Sorry, I'll call later\n",
       "freq    4825                      30"
      ]
     },
     "execution_count": 6,
     "metadata": {},
     "output_type": "execute_result"
    }
   ],
   "source": [
    "msg.describe()"
   ]
  },
  {
   "cell_type": "markdown",
   "id": "37740aa7-987c-429e-9842-7bf962f2b3b9",
   "metadata": {},
   "source": [
    "We can further check the description of the data by grouping the messages by label."
   ]
  },
  {
   "cell_type": "code",
   "execution_count": 7,
   "id": "b6e841df-f997-4f32-a5ba-ff3ad5490021",
   "metadata": {},
   "outputs": [
    {
     "data": {
      "text/html": [
       "<div>\n",
       "<style scoped>\n",
       "    .dataframe tbody tr th:only-of-type {\n",
       "        vertical-align: middle;\n",
       "    }\n",
       "\n",
       "    .dataframe tbody tr th {\n",
       "        vertical-align: top;\n",
       "    }\n",
       "\n",
       "    .dataframe thead tr th {\n",
       "        text-align: left;\n",
       "    }\n",
       "\n",
       "    .dataframe thead tr:last-of-type th {\n",
       "        text-align: right;\n",
       "    }\n",
       "</style>\n",
       "<table border=\"1\" class=\"dataframe\">\n",
       "  <thead>\n",
       "    <tr>\n",
       "      <th></th>\n",
       "      <th colspan=\"4\" halign=\"left\">message</th>\n",
       "    </tr>\n",
       "    <tr>\n",
       "      <th></th>\n",
       "      <th>count</th>\n",
       "      <th>unique</th>\n",
       "      <th>top</th>\n",
       "      <th>freq</th>\n",
       "    </tr>\n",
       "    <tr>\n",
       "      <th>label</th>\n",
       "      <th></th>\n",
       "      <th></th>\n",
       "      <th></th>\n",
       "      <th></th>\n",
       "    </tr>\n",
       "  </thead>\n",
       "  <tbody>\n",
       "    <tr>\n",
       "      <th>ham</th>\n",
       "      <td>4825</td>\n",
       "      <td>4516</td>\n",
       "      <td>Sorry, I'll call later</td>\n",
       "      <td>30</td>\n",
       "    </tr>\n",
       "    <tr>\n",
       "      <th>spam</th>\n",
       "      <td>747</td>\n",
       "      <td>653</td>\n",
       "      <td>Please call our customer service representativ...</td>\n",
       "      <td>4</td>\n",
       "    </tr>\n",
       "  </tbody>\n",
       "</table>\n",
       "</div>"
      ],
      "text/plain": [
       "      message                                                               \n",
       "        count unique                                                top freq\n",
       "label                                                                       \n",
       "ham      4825   4516                             Sorry, I'll call later   30\n",
       "spam      747    653  Please call our customer service representativ...    4"
      ]
     },
     "execution_count": 7,
     "metadata": {},
     "output_type": "execute_result"
    }
   ],
   "source": [
    "msg.groupby('label').describe()"
   ]
  },
  {
   "cell_type": "markdown",
   "id": "74b6cb80-186b-4bef-8f79-9da1eb8b2ea7",
   "metadata": {},
   "source": [
    "#### It's all about features\n",
    "\n",
    "It is at this point that we can already try to think about the features we will be using. In NLP, a large part of the work is [**feature engineering**](https://en.wikipedia.org/wiki/Feature_engineering). Obviously the better our knowledge about the domain of our data, the more features we will be able to extract from it.\n",
    "\n",
    "For example, it might be relevant to check the lenght of the messages:"
   ]
  },
  {
   "cell_type": "code",
   "execution_count": 8,
   "id": "da9255f9-3862-47c1-a1ac-71dbb87c28ab",
   "metadata": {},
   "outputs": [
    {
     "data": {
      "text/html": [
       "<div>\n",
       "<style scoped>\n",
       "    .dataframe tbody tr th:only-of-type {\n",
       "        vertical-align: middle;\n",
       "    }\n",
       "\n",
       "    .dataframe tbody tr th {\n",
       "        vertical-align: top;\n",
       "    }\n",
       "\n",
       "    .dataframe thead th {\n",
       "        text-align: right;\n",
       "    }\n",
       "</style>\n",
       "<table border=\"1\" class=\"dataframe\">\n",
       "  <thead>\n",
       "    <tr style=\"text-align: right;\">\n",
       "      <th></th>\n",
       "      <th>label</th>\n",
       "      <th>message</th>\n",
       "      <th>lenght</th>\n",
       "    </tr>\n",
       "  </thead>\n",
       "  <tbody>\n",
       "    <tr>\n",
       "      <th>0</th>\n",
       "      <td>ham</td>\n",
       "      <td>Go until jurong point, crazy.. Available only ...</td>\n",
       "      <td>111</td>\n",
       "    </tr>\n",
       "    <tr>\n",
       "      <th>1</th>\n",
       "      <td>ham</td>\n",
       "      <td>Ok lar... Joking wif u oni...</td>\n",
       "      <td>29</td>\n",
       "    </tr>\n",
       "    <tr>\n",
       "      <th>2</th>\n",
       "      <td>spam</td>\n",
       "      <td>Free entry in 2 a wkly comp to win FA Cup fina...</td>\n",
       "      <td>155</td>\n",
       "    </tr>\n",
       "    <tr>\n",
       "      <th>3</th>\n",
       "      <td>ham</td>\n",
       "      <td>U dun say so early hor... U c already then say...</td>\n",
       "      <td>49</td>\n",
       "    </tr>\n",
       "    <tr>\n",
       "      <th>4</th>\n",
       "      <td>ham</td>\n",
       "      <td>Nah I don't think he goes to usf, he lives aro...</td>\n",
       "      <td>61</td>\n",
       "    </tr>\n",
       "  </tbody>\n",
       "</table>\n",
       "</div>"
      ],
      "text/plain": [
       "  label                                            message  lenght\n",
       "0   ham  Go until jurong point, crazy.. Available only ...     111\n",
       "1   ham                      Ok lar... Joking wif u oni...      29\n",
       "2  spam  Free entry in 2 a wkly comp to win FA Cup fina...     155\n",
       "3   ham  U dun say so early hor... U c already then say...      49\n",
       "4   ham  Nah I don't think he goes to usf, he lives aro...      61"
      ]
     },
     "execution_count": 8,
     "metadata": {},
     "output_type": "execute_result"
    }
   ],
   "source": [
    "msg['lenght'] = msg['message'].apply(len)\n",
    "msg.head()"
   ]
  },
  {
   "cell_type": "markdown",
   "id": "d90a4f82-6b42-4952-83e4-8eaebb65db63",
   "metadata": {},
   "source": [
    "### Data Visualization"
   ]
  },
  {
   "cell_type": "code",
   "execution_count": 9,
   "id": "ec84cf6a-42de-4bdd-84de-b1bebeb273bc",
   "metadata": {},
   "outputs": [],
   "source": [
    "import matplotlib.pyplot as plt\n",
    "import seaborn as sns\n",
    "%matplotlib inline\n",
    "\n",
    "sns.set_style('darkgrid')"
   ]
  },
  {
   "cell_type": "markdown",
   "id": "d5e2f815-3917-4ee5-ba07-4903f7f4f02e",
   "metadata": {},
   "source": [
    "Distribution of the message lenght"
   ]
  },
  {
   "cell_type": "code",
   "execution_count": 10,
   "id": "7dbb753b-e406-464f-a416-a6a1d3dce436",
   "metadata": {},
   "outputs": [
    {
     "data": {
      "text/plain": [
       "<AxesSubplot:ylabel='Frequency'>"
      ]
     },
     "execution_count": 10,
     "metadata": {},
     "output_type": "execute_result"
    },
    {
     "data": {
      "image/png": "[encoded data removed]",
      "text/plain": [
       "<Figure size 864x504 with 1 Axes>"
      ]
     },
     "metadata": {},
     "output_type": "display_data"
    }
   ],
   "source": [
    "plt.figure(figsize=(12, 7))\n",
    "msg['lenght'].plot.hist(bins=200)"
   ]
  },
  {
   "cell_type": "markdown",
   "id": "8cd7a98b-06e6-4608-8582-361022e890fd",
   "metadata": {},
   "source": [
    "We can see that there are two clear peaks of messages. One at around 50 ~ 75 characters and one at around ~160 characters. Also a minority are over 200 and the scale seems to increase untill the 1000s.\n",
    "\n",
    "This leaves me to wonder: \"What is the longest message we have in there ?\""
   ]
  },
  {
   "cell_type": "code",
   "execution_count": 11,
   "id": "01dd2e94-71b6-427b-bcc5-5750e11cdf6b",
   "metadata": {},
   "outputs": [
    {
     "data": {
      "text/plain": [
       "count    5572.000000\n",
       "mean       80.489950\n",
       "std        59.942907\n",
       "min         2.000000\n",
       "25%        36.000000\n",
       "50%        62.000000\n",
       "75%       122.000000\n",
       "max       910.000000\n",
       "Name: lenght, dtype: float64"
      ]
     },
     "execution_count": 11,
     "metadata": {},
     "output_type": "execute_result"
    }
   ],
   "source": [
    "msg['lenght'].describe()"
   ]
  },
  {
   "cell_type": "markdown",
   "id": "75d24e0d-f947-4fac-96b8-ffdfaca41533",
   "metadata": {},
   "source": [
    "The longest message is 910 characters long. Let's check it out."
   ]
  },
  {
   "cell_type": "code",
   "execution_count": 13,
   "id": "e95d1e61-8b8b-4256-9161-2202d3be34cf",
   "metadata": {},
   "outputs": [
    {
     "data": {
      "text/plain": [
       "\"For me the love should start with attraction.i should feel that I need her every time around me.she should be the first thing which comes in my thoughts.I would start the day and end it with her.she should be there every time I dream.love will be then when my every breath has her name.my life should happen around her.my life will be named to her.I would cry for her.will give all my happiness and take all her sorrows.I will be ready to fight with anyone for her.I will be in love when I will be doing the craziest things for her.love will be when I don't have to proove anyone that my girl is the most beautiful lady on the whole planet.I will always be singing praises for her.love will be when I start up making chicken curry and end up makiing sambar.life will be the most beautiful then.will get every morning and thank god for the day because she is with me.I would like to say a lot..will tell later..\""
      ]
     },
     "execution_count": 13,
     "metadata": {},
     "output_type": "execute_result"
    }
   ],
   "source": [
    "msg[msg['lenght'] == 910]['message'].iloc[0]"
   ]
  },
  {
   "cell_type": "code",
   "execution_count": 14,
   "id": "b99a6c87-6c20-4d25-914e-ba0ef5e8e245",
   "metadata": {},
   "outputs": [
    {
     "data": {
      "text/plain": [
       "array([<AxesSubplot:title={'center':'ham'}>,\n",
       "       <AxesSubplot:title={'center':'spam'}>], dtype=object)"
      ]
     },
     "execution_count": 14,
     "metadata": {},
     "output_type": "execute_result"
    },
    {
     "data": {
      "image/png": "[encoded data removed]",
      "text/plain": [
       "<Figure size 864x288 with 2 Axes>"
      ]
     },
     "metadata": {},
     "output_type": "display_data"
    }
   ],
   "source": [
    "msg.hist(column='lenght', by='label', bins=50, figsize=(12,4))\n",
    "\n",
    "# This is the equivalent to:\n",
    "# q = sns.FacetGrid(data=msg, col='label')\n",
    "# q.map(sns.histplotplot, 'lenght')"
   ]
  },
  {
   "cell_type": "markdown",
   "id": "bfe9cfb6-5df7-4169-8882-4e2789bf4e34",
   "metadata": {},
   "source": [
    "From this **very basic** analysis, it looks like *Ham* messages tend to be shorter than *Spam* messages. As such, lenght is already a good feature to distinguish *Ham* from *Spam*.\n",
    "\n",
    "## Document preprocessing\n",
    "\n",
    "Machine Learning algorithms require numerical data to function. That is why we need to find a way to convert our corpus of strings into a features vector.\n",
    "\n",
    "The simplest method is by creating a **Bag of Words**.\n",
    "\n",
    "First we want to get a list of all words in the messages for each message. This list should not contain the very frequent words like «a», «the», «if» etc. Nor should it contain punctuation.\n",
    "\n",
    "To achieve this we will use the builtin python string library.\n",
    "\n",
    "### Removing the punctuation"
   ]
  },
  {
   "cell_type": "code",
   "execution_count": 19,
   "id": "30338e2a-f4dc-411a-95f4-11375dc90711",
   "metadata": {},
   "outputs": [],
   "source": [
    "import string"
   ]
  },
  {
   "cell_type": "code",
   "execution_count": 20,
   "id": "20d84beb-fb0b-4f2b-98a3-64da7933b0a9",
   "metadata": {},
   "outputs": [],
   "source": [
    "sample = 'This is a sample message ! Notice: it has some punctuation.'"
   ]
  },
  {
   "cell_type": "code",
   "execution_count": 21,
   "id": "56574e40-a912-4423-9f57-50720bea5bb6",
   "metadata": {},
   "outputs": [
    {
     "data": {
      "text/plain": [
       "'This is a sample message  Notice it has some punctuation'"
      ]
     },
     "execution_count": 21,
     "metadata": {},
     "output_type": "execute_result"
    }
   ],
   "source": [
    "# string.puctuation is a string of characters containing only punctuation\n",
    "\n",
    "no_punctuation = ''.join([c for c in sample if c not in string.punctuation])\n",
    "no_punctuation"
   ]
  },
  {
   "cell_type": "markdown",
   "id": "0c4c7a25-0c0a-43d2-85f9-86264739ff7f",
   "metadata": {},
   "source": [
    "### Removing the stopwords"
   ]
  },
  {
   "cell_type": "code",
   "execution_count": 22,
   "id": "f06dae1b-6d6d-4eaf-a0f4-110282a089ac",
   "metadata": {},
   "outputs": [],
   "source": [
    "from nltk.corpus import stopwords"
   ]
  },
  {
   "cell_type": "code",
   "execution_count": 23,
   "id": "11881b4f-9669-4b76-b273-6f833aff71b8",
   "metadata": {},
   "outputs": [
    {
     "data": {
      "text/plain": [
       "['sample', 'message', 'Notice', 'punctuation']"
      ]
     },
     "execution_count": 23,
     "metadata": {},
     "output_type": "execute_result"
    }
   ],
   "source": [
    "# stopwords.words('english') is a list of words\n",
    "\n",
    "clean_message = [word for word in no_punctuation.split() if word.lower() not in stopwords.words('english')]\n",
    "clean_message"
   ]
  },
  {
   "cell_type": "markdown",
   "id": "0e69a274-c4a7-446d-8959-802686a20b10",
   "metadata": {},
   "source": [
    "#### Now let's make a nice function of this"
   ]
  },
  {
   "cell_type": "code",
   "execution_count": 24,
   "id": "ced4502d-0186-400f-823c-9e27fe39d65b",
   "metadata": {},
   "outputs": [],
   "source": [
    "def get_word_list(message):\n",
    "    \"\"\"Return list of words composing given message.\n",
    "    The list should not contain any stopwords (like 'a', 'the', 'if').\n",
    "    That is where our download from nltk comes into play.\n",
    "    \"\"\"\n",
    "    no_punctuation = ''.join([character for character in message if character not in string.punctuation])\n",
    "    clean_list = [word for word in no_punctuation.split() if word.lower() not in stopwords.words('english')]\n",
    "    return clean_list"
   ]
  },
  {
   "cell_type": "markdown",
   "id": "58ba10b5-3aba-471c-be0f-73ff861f34c9",
   "metadata": {},
   "source": [
    "The process of removing the punctuation and the stopwords and to make a list out of the remaining words is called **tokenization**.\n",
    "\n",
    "Now that we have our tokens, we want to create our vectors.\n",
    "\n",
    "## Vectorization\n",
    "\n",
    "Let's convert each message, represented as a list of tokens, into a vector that machine learning models can understand.\n",
    "\n",
    "We'll do that in three steps using the bag of words model:\n",
    "\n",
    "1. Count how many times does a word occur in each message (Known as term frequency)\n",
    "2. Weigh the counts, so that frequent tokens get lower weight (inverse document frequency)\n",
    "3. Normalize the vectors to unit length, to abstract from the original text length (L2 norm)\n",
    "\n",
    "### Term Frequency\n",
    "\n",
    "Each vector will have as many dimensions as there are unique words in the SMS corpus. To do this we will use SciKit Learn's `CountVectorizer`. This estimator will convert a collection of text documents into a matrix of token counts.\n",
    "\n",
    "This results in something similar to a 2-dimensional matrix where 1-dimension is the entire vocabulary (1 row per word) and the other dimension are the actual documents (in this case, one column per message).\n",
    "\n",
    "However since all the words will be present in the first dimension, we do expect a lot of zero counts for the presence of each specific word in a document. Because of this, SciKit Learn will output a [Sparse Matrix](https://en.wikipedia.org/wiki/Sparse_matrix) which is basically a matrix where most values are 0 and that is saved in a way that saves memory."
   ]
  },
  {
   "cell_type": "code",
   "execution_count": 25,
   "id": "07537bc7-b616-4da2-bf87-3b8bf5ffd1bd",
   "metadata": {},
   "outputs": [],
   "source": [
    "from sklearn.feature_extraction.text import CountVectorizer"
   ]
  },
  {
   "cell_type": "code",
   "execution_count": 26,
   "id": "a1562081-cd64-42af-88af-842ecef6ab53",
   "metadata": {},
   "outputs": [],
   "source": [
    "# There are a lot of possible parameters for the CountVectorizer estimator.\n",
    "# To prevent having to write them all we are using our own analyzer.\n",
    "\n",
    "bow_transformer = CountVectorizer(analyzer=get_word_list).fit(msg['message'])"
   ]
  },
  {
   "cell_type": "code",
   "execution_count": 27,
   "id": "44211039-0e9b-4bdf-a8b3-8fbe491c7dd1",
   "metadata": {},
   "outputs": [
    {
     "data": {
      "text/plain": [
       "11425"
      ]
     },
     "execution_count": 27,
     "metadata": {},
     "output_type": "execute_result"
    }
   ],
   "source": [
    "# Total count of unique words in our vocabulary list\n",
    "len(bow_transformer.vocabulary_)"
   ]
  },
  {
   "cell_type": "code",
   "execution_count": 33,
   "id": "e02ffce0-928b-40ee-9fbc-b1400891d700",
   "metadata": {},
   "outputs": [
    {
     "data": {
      "text/plain": [
       "\"Please don't text me anymore. I have nothing else to say.\""
      ]
     },
     "execution_count": 33,
     "metadata": {},
     "output_type": "execute_result"
    }
   ],
   "source": [
    "# How is it used ?\n",
    "\n",
    "# Take random message (index 100)\n",
    "random_message = msg['message'][100]\n",
    "random_message"
   ]
  },
  {
   "cell_type": "code",
   "execution_count": 34,
   "id": "00778578-97c5-4daf-ac50-0aa19e49a086",
   "metadata": {},
   "outputs": [
    {
     "data": {
      "text/plain": [
       "<1x11425 sparse matrix of type '<class 'numpy.int64'>'\n",
       "\twith 7 stored elements in Compressed Sparse Row format>"
      ]
     },
     "execution_count": 34,
     "metadata": {},
     "output_type": "execute_result"
    }
   ],
   "source": [
    "# Transform message by running the estimator transform function\n",
    "example_bow = bow_transformer.transform([random_message])\n",
    "example_bow"
   ]
  },
  {
   "cell_type": "code",
   "execution_count": 35,
   "id": "bab9e786-712f-4308-9b6e-76d4cd476bd4",
   "metadata": {},
   "outputs": [
    {
     "name": "stdout",
     "output_type": "stream",
     "text": [
      "  (0, 3235)\t1\n",
      "  (0, 4701)\t1\n",
      "  (0, 6123)\t1\n",
      "  (0, 6282)\t1\n",
      "  (0, 8480)\t1\n",
      "  (0, 9554)\t1\n",
      "  (0, 10378)\t1\n"
     ]
    }
   ],
   "source": [
    "print(example_bow)"
   ]
  },
  {
   "cell_type": "code",
   "execution_count": 36,
   "id": "8e716e1a-e786-4d39-86d3-11b894340110",
   "metadata": {},
   "outputs": [
    {
     "data": {
      "text/plain": [
       "'text'"
      ]
     },
     "execution_count": 36,
     "metadata": {},
     "output_type": "execute_result"
    }
   ],
   "source": [
    "bow_transformer.get_feature_names_out()[10378]"
   ]
  },
  {
   "cell_type": "markdown",
   "id": "7ab86122-32ac-41ea-ace0-5ac74c9e4cce",
   "metadata": {},
   "source": [
    "#### Apply the tranformation to all messages"
   ]
  },
  {
   "cell_type": "code",
   "execution_count": 37,
   "id": "cfae9cff-2488-49fb-9725-c4d06815de2e",
   "metadata": {},
   "outputs": [],
   "source": [
    "messages_bow = bow_transformer.transform(msg['message'])"
   ]
  },
  {
   "cell_type": "code",
   "execution_count": 38,
   "id": "66c6dc30-7f94-44d3-9722-eeeb61537ab3",
   "metadata": {},
   "outputs": [
    {
     "name": "stdout",
     "output_type": "stream",
     "text": [
      "Shape of the Sparce Matrix:  (5572, 11425)\n"
     ]
    }
   ],
   "source": [
    "print('Shape of the Sparce Matrix: ', messages_bow.shape)"
   ]
  },
  {
   "cell_type": "code",
   "execution_count": 39,
   "id": "f918c0c9-d3b4-41f7-a0c4-78f78e864eae",
   "metadata": {},
   "outputs": [
    {
     "data": {
      "text/plain": [
       "50548"
      ]
     },
     "execution_count": 39,
     "metadata": {},
     "output_type": "execute_result"
    }
   ],
   "source": [
    "# Non Zero Occurences\n",
    "\n",
    "messages_bow.nnz"
   ]
  },
  {
   "cell_type": "code",
   "execution_count": 40,
   "id": "9f2c49d6-53e0-4597-95cc-8be010c27cbb",
   "metadata": {},
   "outputs": [
    {
     "name": "stdout",
     "output_type": "stream",
     "text": [
      "Sparcity: 0.07940295412668218\n"
     ]
    }
   ],
   "source": [
    "# Sparcity = non-zero occurences vs total size of matrix\n",
    "\n",
    "sparcity = (100 * messages_bow.nnz / (messages_bow.shape[0] * messages_bow.shape[1]))\n",
    "print('Sparcity: {}'.format(sparcity))"
   ]
  },
  {
   "cell_type": "markdown",
   "id": "7fa410fe-f6b2-403b-8758-9ea4575825db",
   "metadata": {},
   "source": [
    "### Term weighting and normalization\n",
    "\n",
    "This part of the process is done with the `TF-IDF` of SciKit Learn, `TfidfTransformer`.\n",
    "\n",
    "TF-IDF will give us a normalization between the Term Frequency and the Inverse Document Frequency (or the amount of documents in which the word can be found)"
   ]
  },
  {
   "cell_type": "code",
   "execution_count": 41,
   "id": "0a03ceab-b3a8-447d-bab1-f8ed96d53d6f",
   "metadata": {},
   "outputs": [],
   "source": [
    "from sklearn.feature_extraction.text import TfidfTransformer"
   ]
  },
  {
   "cell_type": "code",
   "execution_count": 42,
   "id": "7467b4ca-73d6-482e-abda-2477b39e60ca",
   "metadata": {},
   "outputs": [],
   "source": [
    "tfidf_transformer = TfidfTransformer().fit(messages_bow)"
   ]
  },
  {
   "cell_type": "code",
   "execution_count": 43,
   "id": "b3b71bef-a60f-41f3-9651-05c0bb6171aa",
   "metadata": {},
   "outputs": [],
   "source": [
    "messages_tfidf = tfidf_transformer.transform(messages_bow)"
   ]
  },
  {
   "cell_type": "markdown",
   "id": "511e40fe-4ef2-4c3e-a9f0-cea1e533af6f",
   "metadata": {},
   "source": [
    "There are many ways in which data can be processed and vectorized. This involves **Feature Engineering** and building a **Pipeline**. Have a look at SciKit Learn's [documentation](https://scikit-learn.org/stable/tutorial/text_analytics/working_with_text_data.html) for more information.\n",
    "\n",
    "## Creating and Training our Classifier Model\n",
    "\n",
    "Now that our text-based dataset has been extended with features that are numerical, we can create a Classifier Model. In this case, we will use the Naive Bayse Classifier algorithm."
   ]
  },
  {
   "cell_type": "code",
   "execution_count": 44,
   "id": "097a4147-3a89-47fd-b5af-835e6550d233",
   "metadata": {},
   "outputs": [],
   "source": [
    "from sklearn.naive_bayes import MultinomialNB"
   ]
  },
  {
   "cell_type": "code",
   "execution_count": 45,
   "id": "e93390de-1b47-414b-a3f3-d4abb4eebe4a",
   "metadata": {},
   "outputs": [],
   "source": [
    "spam_detect_model = MultinomialNB().fit(messages_tfidf, msg['label'])"
   ]
  },
  {
   "cell_type": "code",
   "execution_count": 47,
   "id": "6d129aed-7b3d-43a5-b1df-4d5016b8bc9e",
   "metadata": {},
   "outputs": [
    {
     "data": {
      "text/plain": [
       "array(['ham'], dtype='<U4')"
      ]
     },
     "execution_count": 47,
     "metadata": {},
     "output_type": "execute_result"
    }
   ],
   "source": [
    "# Ok now let's try it out ... with index 100 ;-)\n",
    "example_tfidf = tfidf_transformer.transform(example_bow)\n",
    "\n",
    "spam_detect_model.predict(example_tfidf)"
   ]
  },
  {
   "cell_type": "markdown",
   "id": "b75749e9-1854-4561-8555-3e028d619da9",
   "metadata": {},
   "source": [
    "As we can see, our model predicted that at index 100, the message was a Ham. Let's verify:"
   ]
  },
  {
   "cell_type": "code",
   "execution_count": 48,
   "id": "d67bd86d-7e7d-4793-a2c0-49bf15d568e9",
   "metadata": {},
   "outputs": [
    {
     "data": {
      "text/plain": [
       "'ham'"
      ]
     },
     "execution_count": 48,
     "metadata": {},
     "output_type": "execute_result"
    }
   ],
   "source": [
    "msg['label'][100]"
   ]
  },
  {
   "cell_type": "code",
   "execution_count": 49,
   "id": "e0dbb0f2-ab6a-425b-ad09-29cd1f129dc4",
   "metadata": {},
   "outputs": [
    {
     "data": {
      "text/plain": [
       "array(['ham', 'ham', 'spam', ..., 'ham', 'ham', 'ham'], dtype='<U4')"
      ]
     },
     "execution_count": 49,
     "metadata": {},
     "output_type": "execute_result"
    }
   ],
   "source": [
    "# Now for all our dataset\n",
    "\n",
    "prediction = spam_detect_model.predict(messages_tfidf)\n",
    "prediction"
   ]
  },
  {
   "cell_type": "markdown",
   "id": "034a0977-4ffa-49a2-9acb-d560d0dd0298",
   "metadata": {},
   "source": [
    "### Problem: No Train-Test Split\n",
    "\n",
    "As we know, it is not good practices to make predictions based on the dataset that we have trained our model on.\n",
    "\n",
    "So let's split our original data."
   ]
  },
  {
   "cell_type": "code",
   "execution_count": 50,
   "id": "1851df6d-3e27-4efd-998c-07d30c7134cc",
   "metadata": {},
   "outputs": [],
   "source": [
    "from sklearn.model_selection import train_test_split"
   ]
  },
  {
   "cell_type": "code",
   "execution_count": 52,
   "id": "fc2be913-bd9b-4969-a1bf-bba36fc6debe",
   "metadata": {},
   "outputs": [],
   "source": [
    "msg_train, msg_test, label_train, label_test = train_test_split(msg['message'], msg['label'], test_size=0.3)"
   ]
  },
  {
   "cell_type": "markdown",
   "id": "2a7cbbef-a7b4-440b-b0bb-c29a989bd70b",
   "metadata": {},
   "source": [
    "Now we have 2 options:\n",
    "1. Repeat everything we just did\n",
    "2. Since (1.) is such a common process, SciKit learn has a data **Pipeline** feature.\n",
    "\n",
    "So let's create a pipeline of our workflow."
   ]
  },
  {
   "cell_type": "code",
   "execution_count": 53,
   "id": "0e2df97c-1a11-40d0-9cec-03da2781103e",
   "metadata": {},
   "outputs": [],
   "source": [
    "from sklearn.pipeline import Pipeline"
   ]
  },
  {
   "cell_type": "code",
   "execution_count": 56,
   "id": "01e3590b-2ce8-4915-992a-2c01981b2aff",
   "metadata": {},
   "outputs": [],
   "source": [
    "pipeline = Pipeline(\n",
    "    [\n",
    "        ('bow', CountVectorizer(analyzer=get_word_list)),\n",
    "        ('tfidf', TfidfTransformer()),\n",
    "        ('classifier', MultinomialNB())\n",
    "    ]\n",
    ")"
   ]
  },
  {
   "cell_type": "markdown",
   "id": "4b9f7a19-789e-43e7-aa82-b68dd2243e29",
   "metadata": {},
   "source": [
    "Our pipeline is now created !\n",
    "\n",
    "This means that we can now use our pipeline as a regular evaluator using the `.fit` and `.predict` methods and SciKit Learn will do all the heavy lifting for us."
   ]
  },
  {
   "cell_type": "code",
   "execution_count": 57,
   "id": "d88ce4f3-fa6d-4bdb-a993-03553d46b254",
   "metadata": {},
   "outputs": [
    {
     "data": {
      "text/plain": [
       "Pipeline(steps=[('bow',\n",
       "                 CountVectorizer(analyzer=<function get_word_list at 0x7f32e88b9480>)),\n",
       "                ('tfidf', TfidfTransformer()),\n",
       "                ('classifier', MultinomialNB())])"
      ]
     },
     "execution_count": 57,
     "metadata": {},
     "output_type": "execute_result"
    }
   ],
   "source": [
    "pipeline.fit(msg_train, label_train)"
   ]
  },
  {
   "cell_type": "code",
   "execution_count": 58,
   "id": "d6a97c94-9ae0-4463-b2eb-3a9e8678b699",
   "metadata": {},
   "outputs": [],
   "source": [
    "predictions = pipeline.predict(msg_test)"
   ]
  },
  {
   "cell_type": "code",
   "execution_count": 59,
   "id": "4606983f-0547-4664-8851-83a10568deba",
   "metadata": {},
   "outputs": [],
   "source": [
    "from sklearn.metrics import classification_report"
   ]
  },
  {
   "cell_type": "code",
   "execution_count": 60,
   "id": "94dcc8f6-a9ba-4df0-9e05-66c38c185795",
   "metadata": {},
   "outputs": [
    {
     "name": "stdout",
     "output_type": "stream",
     "text": [
      "              precision    recall  f1-score   support\n",
      "\n",
      "         ham       0.96      1.00      0.98      1448\n",
      "        spam       1.00      0.71      0.83       224\n",
      "\n",
      "    accuracy                           0.96      1672\n",
      "   macro avg       0.98      0.86      0.91      1672\n",
      "weighted avg       0.96      0.96      0.96      1672\n",
      "\n"
     ]
    }
   ],
   "source": [
    "print(classification_report(label_test, predictions))"
   ]
  }
 ],
 "metadata": {
  "kernelspec": {
   "display_name": "Python 3 (ipykernel)",
   "language": "python",
   "name": "python3"
  },
  "language_info": {
   "codemirror_mode": {
    "name": "ipython",
    "version": 3
   },
   "file_extension": ".py",
   "mimetype": "text/x-python",
   "name": "python",
   "nbconvert_exporter": "python",
   "pygments_lexer": "ipython3",
   "version": "3.10.4"
  }
 },
 "nbformat": 4,
 "nbformat_minor": 5
}
